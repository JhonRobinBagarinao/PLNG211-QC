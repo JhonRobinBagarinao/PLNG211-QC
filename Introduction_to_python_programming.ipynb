{
  "nbformat": 4,
  "nbformat_minor": 0,
  "metadata": {
    "colab": {
      "provenance": [],
      "authorship_tag": "ABX9TyOwzDWFMP1M7UW9vtkducv6",
      "include_colab_link": true
    },
    "kernelspec": {
      "name": "python3",
      "display_name": "Python 3"
    },
    "language_info": {
      "name": "python"
    }
  },
  "cells": [
    {
      "cell_type": "markdown",
      "metadata": {
        "id": "view-in-github",
        "colab_type": "text"
      },
      "source": [
        "<a href=\"https://colab.research.google.com/github/JhonRobinBagarinao/PLNG211-QC/blob/main/Introduction_to_python_programming.ipynb\" target=\"_parent\"><img src=\"https://colab.research.google.com/assets/colab-badge.svg\" alt=\"Open In Colab\"/></a>"
      ]
    },
    {
      "cell_type": "markdown",
      "source": [
        "python indentation"
      ],
      "metadata": {
        "id": "D8Pqd6VF9PwM"
      }
    },
    {
      "cell_type": "code",
      "source": [
        "# python indentation example (labelling)\n",
        "if 5>2:\n",
        "  print(\"5 greater than 2\")\n",
        "  "
      ],
      "metadata": {
        "colab": {
          "base_uri": "https://localhost:8080/"
        },
        "id": "XhtIv_FX9_9h",
        "outputId": "cbed3b6c-26d6-46dc-e33b-1497649c66ab"
      },
      "execution_count": 1,
      "outputs": [
        {
          "output_type": "stream",
          "name": "stdout",
          "text": [
            "5 greater than 2\n"
          ]
        }
      ]
    },
    {
      "cell_type": "markdown",
      "source": [
        "Python variables\n"
      ],
      "metadata": {
        "id": "kCDqPBBk9PyG"
      }
    },
    {
      "cell_type": "code",
      "source": [
        "x = 1\n",
        "a, b =  0, -1\n",
        "a = 9\n",
        "c = \"Sally\"\n",
        "c = \"Danny\"\n",
        "print(a)\n",
        "print (c)\n",
        "# code is read by line so the newer declaration will be read.\n",
        "c = \"Maria\"\n",
        "print(c)"
      ],
      "metadata": {
        "colab": {
          "base_uri": "https://localhost:8080/"
        },
        "id": "lawP1Mk7-dTC",
        "outputId": "370d5fd4-792f-4721-fe53-4b543ace2796"
      },
      "execution_count": 2,
      "outputs": [
        {
          "output_type": "stream",
          "name": "stdout",
          "text": [
            "9\n",
            "Danny\n",
            "Maria\n"
          ]
        }
      ]
    },
    {
      "cell_type": "markdown",
      "source": [
        "casting"
      ],
      "metadata": {
        "id": "NJABIISM_SH7"
      }
    },
    {
      "cell_type": "code",
      "source": [
        "d = int(4)\n",
        "print (d)\n",
        "e = float(4)\n",
        "print (e)\n"
      ],
      "metadata": {
        "colab": {
          "base_uri": "https://localhost:8080/"
        },
        "id": "lTSt5abo_hbw",
        "outputId": "511748e5-a9bc-42f6-f509-f7e25d39abce"
      },
      "execution_count": 3,
      "outputs": [
        {
          "output_type": "stream",
          "name": "stdout",
          "text": [
            "4\n",
            "4.0\n"
          ]
        }
      ]
    },
    {
      "cell_type": "markdown",
      "source": [
        "type() function\n"
      ],
      "metadata": {
        "id": "tIjk6NTH_n67"
      }
    },
    {
      "cell_type": "code",
      "source": [
        "print(type(d))\n",
        "print(type(e))"
      ],
      "metadata": {
        "colab": {
          "base_uri": "https://localhost:8080/"
        },
        "id": "d9Ry-qj2_ulX",
        "outputId": "1e7af256-91b3-4a94-dd4d-e3d93ce003bd"
      },
      "execution_count": 4,
      "outputs": [
        {
          "output_type": "stream",
          "name": "stdout",
          "text": [
            "<class 'int'>\n",
            "<class 'float'>\n"
          ]
        }
      ]
    },
    {
      "cell_type": "markdown",
      "source": [
        "single quote or double quote"
      ],
      "metadata": {
        "id": "iWxGvU5k_yjc"
      }
    },
    {
      "cell_type": "code",
      "source": [
        "f=\"maria\"\n",
        "print(f)\n",
        "g= 'ana'\n",
        "print(g)"
      ],
      "metadata": {
        "colab": {
          "base_uri": "https://localhost:8080/"
        },
        "id": "RKmasBQv_6rw",
        "outputId": "32fc63e8-28b6-4e76-d7b0-69a09c025201"
      },
      "execution_count": 5,
      "outputs": [
        {
          "output_type": "stream",
          "name": "stdout",
          "text": [
            "maria\n",
            "ana\n"
          ]
        }
      ]
    },
    {
      "cell_type": "markdown",
      "source": [
        "multiple variables"
      ],
      "metadata": {
        "id": "16WFE_m6__M8"
      }
    },
    {
      "cell_type": "code",
      "source": [
        "x,y,z = 4,5,6,\n",
        "print(x)\n",
        "print(y)\n",
        "print(z)"
      ],
      "metadata": {
        "colab": {
          "base_uri": "https://localhost:8080/"
        },
        "id": "x7bP9WU6AGvQ",
        "outputId": "fb3e013e-dfc0-48eb-8a52-cf4ddb03bc7f"
      },
      "execution_count": 6,
      "outputs": [
        {
          "output_type": "stream",
          "name": "stdout",
          "text": [
            "4\n",
            "5\n",
            "6\n"
          ]
        }
      ]
    },
    {
      "cell_type": "markdown",
      "source": [
        "Single value to a multiple variables"
      ],
      "metadata": {
        "id": "rS8O49hyAKG8"
      }
    },
    {
      "cell_type": "code",
      "source": [
        "x=y=z = \"LILO\"\n",
        "print(x)\n",
        "print(y)\n",
        "print(z)"
      ],
      "metadata": {
        "colab": {
          "base_uri": "https://localhost:8080/"
        },
        "id": "jV1fVY9iAU_A",
        "outputId": "9edda95c-c986-4020-8584-4ee469f0e147"
      },
      "execution_count": 7,
      "outputs": [
        {
          "output_type": "stream",
          "name": "stdout",
          "text": [
            "LILO\n",
            "LILO\n",
            "LILO\n"
          ]
        }
      ]
    },
    {
      "cell_type": "markdown",
      "source": [
        "output variable using print and +"
      ],
      "metadata": {
        "id": "rLDVqYg6AW5T"
      }
    },
    {
      "cell_type": "code",
      "source": [
        "s=\"python is\"\n",
        "t=\"enjoying\"\n",
        "print(\"python is\"+\" \"+ t)\n",
        "print(s+' '+t)"
      ],
      "metadata": {
        "colab": {
          "base_uri": "https://localhost:8080/"
        },
        "id": "X6amZ-M-Agv_",
        "outputId": "61397bee-6ef6-4420-fadd-d31872b3dca8"
      },
      "execution_count": 8,
      "outputs": [
        {
          "output_type": "stream",
          "name": "stdout",
          "text": [
            "python is enjoying\n",
            "python is enjoying\n"
          ]
        }
      ]
    },
    {
      "cell_type": "markdown",
      "source": [
        "arithmetic"
      ],
      "metadata": {
        "id": "-nj_ZdfsAnYb"
      }
    },
    {
      "cell_type": "code",
      "source": [
        "x = 1 \n",
        "y = 2\n",
        "sum = x+y\n",
        "x\n",
        "y\n",
        "sum\n",
        "print(x)\n",
        "print(y)\n",
        "print(sum)\n",
        "\n",
        "#modulo division\n",
        "l = 4%2\n",
        "print(\"4%2=\", l )\n",
        "\n",
        "#floor division\n",
        "k= 3//2\n",
        "print(\"3/2=\", k )"
      ],
      "metadata": {
        "colab": {
          "base_uri": "https://localhost:8080/"
        },
        "id": "E7UDyOPLArzY",
        "outputId": "e14530d3-d6a2-42c0-c912-014207608dd0"
      },
      "execution_count": 9,
      "outputs": [
        {
          "output_type": "stream",
          "name": "stdout",
          "text": [
            "1\n",
            "2\n",
            "3\n",
            "4%2= 0\n",
            "3/2= 1\n"
          ]
        }
      ]
    },
    {
      "cell_type": "markdown",
      "source": [
        "assignment operator"
      ],
      "metadata": {
        "id": "V83ssj0xAtM7"
      }
    },
    {
      "cell_type": "code",
      "source": [
        "x = 1\n",
        "x+=1\n",
        "print(x)"
      ],
      "metadata": {
        "colab": {
          "base_uri": "https://localhost:8080/"
        },
        "id": "0pzSo6R1AxUY",
        "outputId": "00267eb6-a6e9-48e8-e278-01e9d60a73a6"
      },
      "execution_count": 10,
      "outputs": [
        {
          "output_type": "stream",
          "name": "stdout",
          "text": [
            "2\n"
          ]
        }
      ]
    },
    {
      "cell_type": "markdown",
      "source": [
        "logical operator"
      ],
      "metadata": {
        "id": "fOu3Tr41Aysr"
      }
    },
    {
      "cell_type": "code",
      "source": [
        "q = 1 \n",
        "r = 4\n",
        "q>r and r==r"
      ],
      "metadata": {
        "colab": {
          "base_uri": "https://localhost:8080/"
        },
        "id": "5FllVrupA55H",
        "outputId": "c0821228-a540-4884-fe51-fda93d5dbac8"
      },
      "execution_count": 11,
      "outputs": [
        {
          "output_type": "execute_result",
          "data": {
            "text/plain": [
              "False"
            ]
          },
          "metadata": {},
          "execution_count": 11
        }
      ]
    }
  ]
}