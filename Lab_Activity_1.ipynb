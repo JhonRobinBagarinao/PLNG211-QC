{
  "nbformat": 4,
  "nbformat_minor": 0,
  "metadata": {
    "colab": {
      "provenance": [],
      "authorship_tag": "ABX9TyMsZc5ZBRE5TxmR2/80ihpN",
      "include_colab_link": true
    },
    "kernelspec": {
      "name": "python3",
      "display_name": "Python 3"
    },
    "language_info": {
      "name": "python"
    }
  },
  "cells": [
    {
      "cell_type": "markdown",
      "metadata": {
        "id": "view-in-github",
        "colab_type": "text"
      },
      "source": [
        "<a href=\"https://colab.research.google.com/github/JhonRobinBagarinao/PLNG211-QC/blob/main/Lab_Activity_1.ipynb\" target=\"_parent\"><img src=\"https://colab.research.google.com/assets/colab-badge.svg\" alt=\"Open In Colab\"/></a>"
      ]
    },
    {
      "cell_type": "code",
      "execution_count": 3,
      "metadata": {
        "colab": {
          "base_uri": "https://localhost:8080/"
        },
        "id": "2Hiboq59mLPo",
        "outputId": "cfc62003-2462-4eba-de20-f4361914f801"
      },
      "outputs": [
        {
          "output_type": "stream",
          "name": "stdout",
          "text": [
            "45\n",
            "[0, 1, 2, 3, 4, 5, 6, 7, 8, 9, 10]\n",
            "[69, 0, 1, 2, 3, 4, 5, 6, 7, 8, 9, 10]\n",
            "[10, 9, 8, 7, 6, 5, 4, 3, 2, 1, 0, 69]\n",
            "12\n"
          ]
        }
      ],
      "source": [
        "#number1\n",
        "array = [0,1,2,3,4,5,6,7,8,9]\n",
        "arraySum = 0\n",
        "for x in array:\n",
        "    arraySum+=array[x]\n",
        "print(arraySum)\n",
        "\n",
        "#number2\n",
        "array.append(10)\n",
        "print(array)\n",
        "\n",
        "#number3\n",
        "array.insert(0,69)\n",
        "print(array)\n",
        "\n",
        "#4\n",
        "array.reverse()\n",
        "print(array)\n",
        "\n",
        "#5\n",
        "length = 0\n",
        "for x in array:\n",
        "    length+=1\n",
        "print(length)"
      ]
    }
  ]
}