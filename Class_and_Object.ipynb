{
  "nbformat": 4,
  "nbformat_minor": 0,
  "metadata": {
    "colab": {
      "provenance": [],
      "authorship_tag": "ABX9TyPkXG55iUN4s9K7bXFGbSRr",
      "include_colab_link": true
    },
    "kernelspec": {
      "name": "python3",
      "display_name": "Python 3"
    },
    "language_info": {
      "name": "python"
    }
  },
  "cells": [
    {
      "cell_type": "markdown",
      "metadata": {
        "id": "view-in-github",
        "colab_type": "text"
      },
      "source": [
        "<a href=\"https://colab.research.google.com/github/JhonRobinBagarinao/PLNG211-QC/blob/main/Class_and_Object.ipynb\" target=\"_parent\"><img src=\"https://colab.research.google.com/assets/colab-badge.svg\" alt=\"Open In Colab\"/></a>"
      ]
    },
    {
      "cell_type": "code",
      "execution_count": 1,
      "metadata": {
        "colab": {
          "base_uri": "https://localhost:8080/"
        },
        "id": "Du8K3YlzkqFe",
        "outputId": "358058f5-f0f8-42f2-badb-069104c59a25"
      },
      "outputs": [
        {
          "output_type": "stream",
          "name": "stdout",
          "text": [
            "The name of the person is: Ana\n",
            "The age of the person is: 36\n",
            "The name of the student is: Lino\n",
            "The age of the student is: 32\n",
            "The name of the teacher is: Maria\n",
            "The age of the teacher is: 39\n"
          ]
        }
      ],
      "source": [
        "class Person:\n",
        "  def __init__(self,name,age):\n",
        "    self.name = name                #attributes\n",
        "    self.age = age\n",
        "class Student(Person):\n",
        "  pass\n",
        "\n",
        "class Teacher(Person):\n",
        "  pass\n",
        "person1 = Person(\"Ana\",36)         #instantiation/add a value to an attribute\n",
        "print(\"The name of the person is:\",person1.name)\n",
        "print(\"The age of the person is:\",person1.age)\n",
        "\n",
        "person2 = Student(\"Lino\",32)      #inheritance\n",
        "print(\"The name of the student is:\",person2.name)\n",
        "print(\"The age of the student is:\",person2.age)\n",
        "\n",
        "person3 = Teacher(\"Maria\",39)\n",
        "print(\"The name of the teacher is:\",person3.name)\n",
        "print(\"The age of the teacher is:\",person3.age)"
      ]
    },
    {
      "cell_type": "code",
      "source": [
        "#Application 1. Write a Rectangle class in Python language with length and width as attributes\n",
        "#Create a Perimeter () and Area () as methods to compute for the perimeter and area of a rectangle\n",
        "\n",
        "len=int(input(\"Length : \"))\n",
        "wid=int(input(\"Width : \"))\n",
        "area=len*wid\n",
        "perimeter=2*(len+wid)\n",
        "print(\"Area of Rectangle : \",area)\n",
        "print(\"Perimeter of Rectangle : \",perimeter)"
      ],
      "metadata": {
        "colab": {
          "base_uri": "https://localhost:8080/"
        },
        "id": "8-TDmE_6kz2Q",
        "outputId": "d4f7f091-6b5f-49df-8f6c-d159c83cfe80"
      },
      "execution_count": 2,
      "outputs": [
        {
          "output_type": "stream",
          "name": "stdout",
          "text": [
            "Length : 9\n",
            "Width : 7\n",
            "Area of Rectangle :  63\n",
            "Perimeter of Rectangle :  32\n"
          ]
        }
      ]
    }
  ]
}