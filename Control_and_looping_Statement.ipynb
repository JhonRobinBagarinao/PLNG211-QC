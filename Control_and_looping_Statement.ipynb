{
  "nbformat": 4,
  "nbformat_minor": 0,
  "metadata": {
    "colab": {
      "provenance": [],
      "authorship_tag": "ABX9TyPFEw4n86qNYxA6CE4Ghi8n",
      "include_colab_link": true
    },
    "kernelspec": {
      "name": "python3",
      "display_name": "Python 3"
    },
    "language_info": {
      "name": "python"
    }
  },
  "cells": [
    {
      "cell_type": "markdown",
      "metadata": {
        "id": "view-in-github",
        "colab_type": "text"
      },
      "source": [
        "<a href=\"https://colab.research.google.com/github/JhonRobinBagarinao/PLNG211-QC/blob/main/Control_and_looping_Statement.ipynb\" target=\"_parent\"><img src=\"https://colab.research.google.com/assets/colab-badge.svg\" alt=\"Open In Colab\"/></a>"
      ]
    },
    {
      "cell_type": "code",
      "source": [
        "#if statement\n",
        "\n",
        "a = 100\n",
        "b= 100\n",
        "if a<b:\n",
        "  print(\"a is less that b\")"
      ],
      "metadata": {
        "id": "ZnDNecTg27Ra"
      },
      "execution_count": 10,
      "outputs": []
    },
    {
      "cell_type": "code",
      "source": [
        "#Elif statement\n",
        "if a<b:\n",
        "  print(\"a is less than b\")\n",
        "elif a>b:\n",
        "  print(\"a greater than b\")\n",
        "    \n"
      ],
      "metadata": {
        "id": "QKwNrAHl3aDK"
      },
      "execution_count": 11,
      "outputs": []
    },
    {
      "cell_type": "code",
      "source": [
        "if a<b:\n",
        "  print(\"a is less than b\")\n",
        "elif a>b:\n",
        "  print(\"a is greater than b\")\n",
        "else:\n",
        "  print (\"a is equal to b\")    "
      ],
      "metadata": {
        "colab": {
          "base_uri": "https://localhost:8080/"
        },
        "id": "8BZpc_QT4Ggq",
        "outputId": "f832ef60-dff1-49da-97fc-77d2afe6b579"
      },
      "execution_count": 12,
      "outputs": [
        {
          "output_type": "stream",
          "name": "stdout",
          "text": [
            "a is equal to b\n"
          ]
        }
      ]
    },
    {
      "cell_type": "code",
      "source": [
        "# short hand if statement\n",
        "c = 5\n",
        "d=10\n",
        "if c>d: print(\"c>d\")"
      ],
      "metadata": {
        "id": "oppc2RUF4nk1"
      },
      "execution_count": 16,
      "outputs": []
    },
    {
      "cell_type": "code",
      "source": [
        "#shorthand if else statement\n",
        "print(\"c>d\") if c>d else print(\"d>c\")"
      ],
      "metadata": {
        "colab": {
          "base_uri": "https://localhost:8080/"
        },
        "id": "82wpwMLH5GXy",
        "outputId": "3ca083c4-67b6-4dc5-8e47-2a455105c03a"
      },
      "execution_count": 17,
      "outputs": [
        {
          "output_type": "stream",
          "name": "stdout",
          "text": [
            "d>c\n"
          ]
        }
      ]
    },
    {
      "cell_type": "code",
      "source": [
        "#and statement\n",
        "if 5>10 and 8>4:\n",
        "  print(\"both statements are true\")\n",
        "else:\n",
        "  print(\"one of the statement is false /both statement are not true\")"
      ],
      "metadata": {
        "colab": {
          "base_uri": "https://localhost:8080/"
        },
        "id": "_QqM8hsX6Qw0",
        "outputId": "34a12ab7-9841-45c4-8a2a-50aaaae6bff6"
      },
      "execution_count": 19,
      "outputs": [
        {
          "output_type": "stream",
          "name": "stdout",
          "text": [
            "one of the statement is false /both statement are not true\n"
          ]
        }
      ]
    },
    {
      "cell_type": "code",
      "source": [
        "#or statement\n",
        "if 5>10 or 4>8:\n",
        "  print('true')\n",
        "else:\n",
        "  print(\"false\")"
      ],
      "metadata": {
        "colab": {
          "base_uri": "https://localhost:8080/"
        },
        "id": "smh9ihBs67Mz",
        "outputId": "b42453fb-5201-403e-fb66-a6cd59515ab8"
      },
      "execution_count": 21,
      "outputs": [
        {
          "output_type": "stream",
          "name": "stdout",
          "text": [
            "false\n"
          ]
        }
      ]
    },
    {
      "cell_type": "code",
      "source": [
        "#bitwise operator ^(xor)\n",
        "e = 4 #0100 in binary\n",
        "f= 2 #0010 in binary\n",
        "e^f\n"
      ],
      "metadata": {
        "colab": {
          "base_uri": "https://localhost:8080/"
        },
        "id": "7MCJzDO07Y6C",
        "outputId": "604061d2-c4a6-4128-f42c-18a99ffbfc22"
      },
      "execution_count": 22,
      "outputs": [
        {
          "output_type": "execute_result",
          "data": {
            "text/plain": [
              "6"
            ]
          },
          "metadata": {},
          "execution_count": 22
        }
      ]
    },
    {
      "cell_type": "code",
      "source": [
        "#nested if statement\n",
        "x=39\n",
        "if x>10:\n",
        "  print(\"Number is above 10\")\n",
        "  if x>20:\n",
        "    print(\"number is above 20\")\n",
        "    if x>30:\n",
        "     print(\"number is above 30\")\n",
        "     if x>40:\n",
        "      print(\"number is above 40\")\n",
        "      if x>50:\n",
        "       print(\"number is above 50\")\n",
        "      else:\n",
        "        print(\"the number is less than 50\")\n",
        "     else:\n",
        "      print(\"number is less than 40\")"
      ],
      "metadata": {
        "colab": {
          "base_uri": "https://localhost:8080/"
        },
        "id": "aTGtApws9KQi",
        "outputId": "851beb44-0c76-41ef-f5fe-deaa92583edc"
      },
      "execution_count": 32,
      "outputs": [
        {
          "output_type": "stream",
          "name": "stdout",
          "text": [
            "Number is above 10\n",
            "number is above 20\n",
            "number is above 30\n",
            "number is less than 40\n"
          ]
        }
      ]
    },
    {
      "cell_type": "code",
      "source": [
        "#Write a program that determines the input age is qualified to vote or not.\n",
        "#the qualifying age is 18 yrs old above.\n",
        "age=18\n",
        "if age>=18:\n",
        "  print(\"qualified to vote\")\n",
        "else:\n",
        "    print(\"you are not qualified to vote\")"
      ],
      "metadata": {
        "id": "-btC-CLu_NFE"
      },
      "execution_count": null,
      "outputs": []
    },
    {
      "cell_type": "code",
      "source": [
        "#application2. Write a program that determines if the input number is positive negative or zero\n",
        "n = 0\n",
        "if n>0:\n",
        "  print(\"positive number\")\n",
        "elif n<0:\n",
        "  print(\"negative number\")\n",
        "else:\n",
        "  print(\"it is zero\")"
      ],
      "metadata": {
        "colab": {
          "base_uri": "https://localhost:8080/"
        },
        "id": "Vd06X2JxCBUE",
        "outputId": "43866c52-dac7-45e7-e840-cfc14892b192"
      },
      "execution_count": 77,
      "outputs": [
        {
          "output_type": "stream",
          "name": "stdout",
          "text": [
            "it is zero\n"
          ]
        }
      ]
    },
    {
      "cell_type": "code",
      "source": [
        "#for loop statement \n",
        "week=[\"sunday\",\"monday\", \"tuesday\", \"wednesday\", \"thursday\", \"friday\", \"saturday\", \"Sunday\",]\n",
        "for y in week:\n",
        "  if y== \"thursday\":\n",
        "   break\n",
        "  print(y)\n",
        " "
      ],
      "metadata": {
        "colab": {
          "base_uri": "https://localhost:8080/"
        },
        "id": "moBrALKOCuqz",
        "outputId": "afff5ee9-976f-4bf3-b640-b72ab4c08794"
      },
      "execution_count": 49,
      "outputs": [
        {
          "output_type": "stream",
          "name": "stdout",
          "text": [
            "sunday\n",
            "monday\n",
            "tuesday\n",
            "wednesday\n"
          ]
        }
      ]
    },
    {
      "cell_type": "code",
      "source": [
        "for x in \"week\":\n",
        "  print(x)"
      ],
      "metadata": {
        "colab": {
          "base_uri": "https://localhost:8080/"
        },
        "id": "JOsyQuqSEzMs",
        "outputId": "52ce9c01-b75a-468a-9890-42d41bac8ae3"
      },
      "execution_count": 50,
      "outputs": [
        {
          "output_type": "stream",
          "name": "stdout",
          "text": [
            "w\n",
            "e\n",
            "e\n",
            "k\n"
          ]
        }
      ]
    },
    {
      "cell_type": "code",
      "source": [
        "#range function\n",
        "for x in range(6):\n",
        " print(x)"
      ],
      "metadata": {
        "colab": {
          "base_uri": "https://localhost:8080/"
        },
        "id": "LRXmG0QQFHhq",
        "outputId": "f332a0ac-f5e4-46cc-ef8f-d45901d64976"
      },
      "execution_count": 52,
      "outputs": [
        {
          "output_type": "stream",
          "name": "stdout",
          "text": [
            "0\n",
            "1\n",
            "2\n",
            "3\n",
            "4\n",
            "5\n"
          ]
        }
      ]
    },
    {
      "cell_type": "code",
      "source": [
        "for x in range(2,6+1,1):\n",
        " print(x)"
      ],
      "metadata": {
        "colab": {
          "base_uri": "https://localhost:8080/"
        },
        "id": "blPUWukNFei6",
        "outputId": "b110ce76-09b8-464c-ca6f-97326c696091"
      },
      "execution_count": 58,
      "outputs": [
        {
          "output_type": "stream",
          "name": "stdout",
          "text": [
            "2\n",
            "3\n",
            "4\n",
            "5\n",
            "6\n"
          ]
        }
      ]
    },
    {
      "cell_type": "code",
      "source": [
        "adj = [\"red\",\"big\",\"tasty\"]\n",
        "fruits = [\"apple\",\"banana\",\"cherry\"]\n",
        "for x in adj:\n",
        "  for y in fruits:\n",
        "    print(x,y)"
      ],
      "metadata": {
        "colab": {
          "base_uri": "https://localhost:8080/"
        },
        "id": "43LAxqXYGFmy",
        "outputId": "312be6c8-87db-4a55-a68f-724ae6fd3f7a"
      },
      "execution_count": 60,
      "outputs": [
        {
          "output_type": "stream",
          "name": "stdout",
          "text": [
            "red apple\n",
            "red banana\n",
            "red cherry\n",
            "big apple\n",
            "big banana\n",
            "big cherry\n",
            "tasty apple\n",
            "tasty banana\n",
            "tasty cherry\n"
          ]
        }
      ]
    },
    {
      "cell_type": "code",
      "source": [
        "i=1\n",
        "while i<6:\n",
        "  print(i)\n",
        "  i+=1 #i = i+1"
      ],
      "metadata": {
        "colab": {
          "base_uri": "https://localhost:8080/"
        },
        "id": "h_M7rxUQHcSD",
        "outputId": "92c7fbea-b6cf-4c0c-82c6-be24dc0be3d7"
      },
      "execution_count": 64,
      "outputs": [
        {
          "output_type": "stream",
          "name": "stdout",
          "text": [
            "1\n",
            "2\n",
            "3\n",
            "4\n",
            "5\n"
          ]
        }
      ]
    },
    {
      "cell_type": "code",
      "source": [
        " i=1\n",
        "while i<=6:\n",
        "  print(i)\n",
        "  if i ==3:\n",
        "    break\n",
        "  i+=1"
      ],
      "metadata": {
        "colab": {
          "base_uri": "https://localhost:8080/"
        },
        "id": "QbV7cDPbH2NC",
        "outputId": "c3ed6f63-0414-4c47-ee32-0145e46906f7"
      },
      "execution_count": 69,
      "outputs": [
        {
          "output_type": "stream",
          "name": "stdout",
          "text": [
            "1\n",
            "2\n",
            "3\n"
          ]
        }
      ]
    },
    {
      "cell_type": "code",
      "source": [
        "#using the while loop and break statement, the output is only 3\n",
        "i=1\n",
        "while i<=6:\n",
        "  if i ==3:\n",
        "    print(i)\n",
        "    break\n",
        "  i=3\n",
        "\n"
      ],
      "metadata": {
        "id": "cN3M4uMMIl-M"
      },
      "execution_count": null,
      "outputs": []
    }
  ]
}