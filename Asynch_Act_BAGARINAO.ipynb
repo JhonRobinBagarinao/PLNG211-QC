{
  "nbformat": 4,
  "nbformat_minor": 0,
  "metadata": {
    "colab": {
      "provenance": [],
      "collapsed_sections": [],
      "authorship_tag": "ABX9TyMlpSNISs/IAAVk2AjjU7Nd",
      "include_colab_link": true
    },
    "kernelspec": {
      "name": "python3",
      "display_name": "Python 3"
    },
    "language_info": {
      "name": "python"
    }
  },
  "cells": [
    {
      "cell_type": "markdown",
      "metadata": {
        "id": "view-in-github",
        "colab_type": "text"
      },
      "source": [
        "<a href=\"https://colab.research.google.com/github/JhonRobinBagarinao/PLNG211-QC/blob/main/Asynch_Act_BAGARINAO.ipynb\" target=\"_parent\"><img src=\"https://colab.research.google.com/assets/colab-badge.svg\" alt=\"Open In Colab\"/></a>"
      ]
    },
    {
      "cell_type": "markdown",
      "source": [
        "#ASYNCHRONOUS ACTIVITY"
      ],
      "metadata": {
        "id": "tEvensBRHwzL"
      }
    },
    {
      "cell_type": "code",
      "source": [
        "Salary_rate = 600 #per day\n",
        "Salary = Salary_rate * 15 #15 days times salary_rate\n",
        "Taxable_amount = Salary*0.30 #tax\n",
        "Net_pay = Salary - Taxable_amount\n",
        "\n",
        "print(\"Salary Computation\\n\")\n",
        "print(\"Salary Rate per day =\",Salary_rate)\n",
        "print(\"Salary\",Salary)\n",
        "print(\"Taxable Amount = \",Taxable_amount)\n",
        "print(\"The Netpay is\",Net_pay)"
      ],
      "metadata": {
        "colab": {
          "base_uri": "https://localhost:8080/"
        },
        "id": "rTxGpc5GH2K_",
        "outputId": "720c8c4b-742b-4256-d2a8-f0fe06d6f47c"
      },
      "execution_count": 7,
      "outputs": [
        {
          "output_type": "stream",
          "name": "stdout",
          "text": [
            "Salary Computation\n",
            "\n",
            "Salary Rate per day = 600\n",
            "Salary 9000\n",
            "Taxable Amount =  2700.0\n",
            "The Netpay is 6300.0\n"
          ]
        }
      ]
    }
  ]
}