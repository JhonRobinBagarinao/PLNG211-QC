{
  "nbformat": 4,
  "nbformat_minor": 0,
  "metadata": {
    "colab": {
      "provenance": [],
      "authorship_tag": "ABX9TyPvC0kb6SwITImQ58ybScDk",
      "include_colab_link": true
    },
    "kernelspec": {
      "name": "python3",
      "display_name": "Python 3"
    },
    "language_info": {
      "name": "python"
    }
  },
  "cells": [
    {
      "cell_type": "markdown",
      "metadata": {
        "id": "view-in-github",
        "colab_type": "text"
      },
      "source": [
        "<a href=\"https://colab.research.google.com/github/JhonRobinBagarinao/PLNG211-QC/blob/main/Asynch_Act_BAGARINAO.ipynb\" target=\"_parent\"><img src=\"https://colab.research.google.com/assets/colab-badge.svg\" alt=\"Open In Colab\"/></a>"
      ]
    },
    {
      "cell_type": "markdown",
      "source": [
        "#ASYNCHRONOUS ACTIVITY"
      ],
      "metadata": {
        "id": "tEvensBRHwzL"
      }
    },
    {
      "cell_type": "code",
      "source": [
        "Salary_rate = 600 #per day\n",
        "Salary = Salary_rate * 15 #15 days times salary_rate\n",
        "Taxable_amount = Salary*0.30 #tax\n",
        "Net_pay = Salary - Taxable_amount\n",
        "\n",
        "print(f'The Net Pay is {Net_pay}')"
      ],
      "metadata": {
        "colab": {
          "base_uri": "https://localhost:8080/"
        },
        "id": "rTxGpc5GH2K_",
        "outputId": "086c0480-7279-4495-c27f-1c94069a91e9"
      },
      "execution_count": 2,
      "outputs": [
        {
          "output_type": "stream",
          "name": "stdout",
          "text": [
            "The Net Pay is 6300.0\n"
          ]
        }
      ]
    }
  ]
}