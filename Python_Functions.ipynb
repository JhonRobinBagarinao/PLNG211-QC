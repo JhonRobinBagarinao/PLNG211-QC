{
  "nbformat": 4,
  "nbformat_minor": 0,
  "metadata": {
    "colab": {
      "provenance": [],
      "authorship_tag": "ABX9TyORb1/TisILd14U2EUMWXuH",
      "include_colab_link": true
    },
    "kernelspec": {
      "name": "python3",
      "display_name": "Python 3"
    },
    "language_info": {
      "name": "python"
    }
  },
  "cells": [
    {
      "cell_type": "markdown",
      "metadata": {
        "id": "view-in-github",
        "colab_type": "text"
      },
      "source": [
        "<a href=\"https://colab.research.google.com/github/JhonRobinBagarinao/PLNG211-QC/blob/main/Python_Functions.ipynb\" target=\"_parent\"><img src=\"https://colab.research.google.com/assets/colab-badge.svg\" alt=\"Open In Colab\"/></a>"
      ]
    },
    {
      "cell_type": "code",
      "execution_count": 2,
      "metadata": {
        "colab": {
          "base_uri": "https://localhost:8080/"
        },
        "id": "qB0QTGR_twen",
        "outputId": "8978ac77-c8d9-404f-9199-c00f8177c8ea"
      },
      "outputs": [
        {
          "output_type": "stream",
          "name": "stdout",
          "text": [
            "100\n",
            "Celsius 37.78\n",
            "Kelvin 310.93\n"
          ]
        }
      ],
      "source": [
        "#Writing your own function/conversion\n",
        "\n",
        "def convert_to_celsius(fahrenheit):\n",
        "  return (fahrenheit-32) *5/9\n",
        "\n",
        "def convert_to_kelvin(fahrenheit):\n",
        "  return ((fahrenheit - 32) *5/9) + 273.15\n",
        "fahrenheit = int(input())\n",
        "\n",
        "print(\"Celsius\",round(convert_to_celsius(fahrenheit),2))\n",
        "print(\"Kelvin\",round(convert_to_kelvin(fahrenheit),2))\n"
      ]
    },
    {
      "cell_type": "code",
      "source": [
        "def Name():\n",
        "  pass"
      ],
      "metadata": {
        "id": "CagTG8Gvt3cS"
      },
      "execution_count": 3,
      "outputs": []
    },
    {
      "cell_type": "code",
      "source": [
        "def my_function(fname):\n",
        "  return(fname + \"Sayo\")\n",
        "\n",
        "print(my_function(\"Mam\"))\n",
        "print(my_function(\"Maria\"))\n",
        "print(my_function(\"Rizette\"))"
      ],
      "metadata": {
        "colab": {
          "base_uri": "https://localhost:8080/"
        },
        "id": "B6fhRt3EuELw",
        "outputId": "fad48d56-474f-4b7f-b7c0-0f1af930fd8d"
      },
      "execution_count": 4,
      "outputs": [
        {
          "output_type": "stream",
          "name": "stdout",
          "text": [
            "MamSayo\n",
            "MariaSayo\n",
            "RizetteSayo\n"
          ]
        }
      ]
    },
    {
      "cell_type": "code",
      "source": [
        "#Returns a value\n",
        "\n",
        "def myFunction(x):\n",
        " return(5+x)\n",
        "\n",
        "print(myFunction(4))\n",
        "print(myFunction(5))\n",
        "print(myFunction(6))"
      ],
      "metadata": {
        "colab": {
          "base_uri": "https://localhost:8080/"
        },
        "id": "DVx9U4J8uGc3",
        "outputId": "066e114d-26a4-4c01-d8bb-c225e88967e0"
      },
      "execution_count": 5,
      "outputs": [
        {
          "output_type": "stream",
          "name": "stdout",
          "text": [
            "9\n",
            "10\n",
            "11\n"
          ]
        }
      ]
    },
    {
      "cell_type": "code",
      "source": [
        "#Exercise 1\n",
        "\n",
        "print(min(2, 3,4,))\n",
        "print(max(2, -3, 4, 7, -5))\n",
        "print(max(2, -3, min(4, 7), -5))"
      ],
      "metadata": {
        "colab": {
          "base_uri": "https://localhost:8080/"
        },
        "id": "bk7wlEb1uIrw",
        "outputId": "e2fe200d-3b65-43d9-f4a9-6f5fe0f3cf94"
      },
      "execution_count": 6,
      "outputs": [
        {
          "output_type": "stream",
          "name": "stdout",
          "text": [
            "2\n",
            "7\n",
            "4\n"
          ]
        }
      ]
    },
    {
      "cell_type": "code",
      "source": [
        "import math\n",
        "\n",
        "def sum(n1,n2,n3):\n",
        "  return n1+n2+n3\n",
        "def average(n1,n2,n3):\n",
        "  return n1+n2+n3/3\n",
        "def sumSquare(n1,n2,n3):\n",
        "  return math.pow(n1,2) + math.pow(n2,2) + math.pow(n3,2)\n",
        "\n",
        "n1= int(input())\n",
        "n2= int(input())\n",
        "n3= int(input())\n",
        "\n",
        "print(\"Sum =\",sum(n1,n2,n3))\n",
        "print(\"Average =\",average(n1,n2,n3))\n",
        "print(\"Sum of Squares =\",sumSquare(n1,n2,n3))"
      ],
      "metadata": {
        "colab": {
          "base_uri": "https://localhost:8080/"
        },
        "id": "qKl5V2C4uLOh",
        "outputId": "d3de778a-787f-431e-c0e4-a6f2956528b0"
      },
      "execution_count": 8,
      "outputs": [
        {
          "output_type": "stream",
          "name": "stdout",
          "text": [
            "21\n",
            "300\n",
            "12\n",
            "Sum = 333\n",
            "Average = 325.0\n",
            "Sum of Squares = 90585.0\n"
          ]
        }
      ]
    }
  ]
}